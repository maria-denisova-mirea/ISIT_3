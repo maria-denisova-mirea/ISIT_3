{
 "cells": [
  {
   "cell_type": "markdown",
   "metadata": {},
   "source": [
    "<h3><b>Модель Шеллинга</b></h3>"
   ]
  },
  {
   "cell_type": "markdown",
   "metadata": {},
   "source": [
    "<b>Цель работы:</b> каждая клетка стремится находиться среди клеток своего типа (красные клетки хотят видеть рядом с собой больше красных клеток, а синие – больше синих)"
   ]
  },
  {
   "cell_type": "markdown",
   "metadata": {},
   "source": [
    "<b>Алгоритм:</b>\n",
    "1) Создание поля: сначала создается сетка, где каждая ячейка – это потенциальная позиция для размещения клетки\n",
    "2) Размещение клеток: клетки распределяются по полю случайно, но с учетом определенного соотношения красных и синих цветов\n",
    "3) Оценка состояния клеток: каждой клетке важно, сколько соседних клеток того же типа находится рядом; если число таких соседей меньше установленного минимума (меньше двух), клетка становится \"несчастной\" и готова переместиться\n",
    "4) Перемещение клеток: \"несчастные\" клетки ищут свободные ячейки на поле и перемещаются туда, если находят подходящее место\n",
    "5) Обновление состояния поля: после перемещения состояние всех клеток пересчитывается заново, и процесс повторяется до тех пор, пока большинство клеток не станут \"счастливыми\"\n",
    "6) Визуализация процесса: на каждом этапе происходит обновление визуалации работы по перемещению, показывающей текущее расположение клеток на поле"
   ]
  },
  {
   "cell_type": "markdown",
   "metadata": {},
   "source": [
    "Поле в начальный момент времени (0 шаг):"
   ]
  },
  {
   "cell_type": "markdown",
   "metadata": {},
   "source": [
    "![](/screenshots/0 шаг.png)"
   ]
  },
  {
   "cell_type": "markdown",
   "metadata": {},
   "source": [
    "Поле в ходе процесса сегрегации (20 шаг):"
   ]
  },
  {
   "cell_type": "markdown",
   "metadata": {},
   "source": [
    "![](/screenshots/20.png)"
   ]
  },
  {
   "cell_type": "markdown",
   "metadata": {},
   "source": [
    "40 шаг:"
   ]
  },
  {
   "cell_type": "markdown",
   "metadata": {},
   "source": [
    "![](/screenshots/40.png)"
   ]
  },
  {
   "cell_type": "markdown",
   "metadata": {},
   "source": [
    "60 шаг:"
   ]
  },
  {
   "cell_type": "markdown",
   "metadata": {},
   "source": [
    "![](/screenshots/60.png)"
   ]
  },
  {
   "cell_type": "markdown",
   "metadata": {},
   "source": [
    "80 шаг:"
   ]
  },
  {
   "cell_type": "markdown",
   "metadata": {},
   "source": [
    "![](/screenshots/80.png)"
   ]
  },
  {
   "cell_type": "markdown",
   "metadata": {},
   "source": [
    "100 шаг:"
   ]
  },
  {
   "cell_type": "markdown",
   "metadata": {},
   "source": [
    "![](/screenshots/100.png)"
   ]
  },
  {
   "cell_type": "markdown",
   "metadata": {},
   "source": [
    "120 шаг:"
   ]
  },
  {
   "cell_type": "markdown",
   "metadata": {},
   "source": [
    "![](/screenshots/120.png)"
   ]
  },
  {
   "cell_type": "markdown",
   "metadata": {},
   "source": [
    "140 шаг:"
   ]
  },
  {
   "cell_type": "markdown",
   "metadata": {},
   "source": [
    "![](/screenshots/140.png)"
   ]
  },
  {
   "cell_type": "markdown",
   "metadata": {},
   "source": [
    "160 шаг:"
   ]
  },
  {
   "cell_type": "markdown",
   "metadata": {},
   "source": [
    "![](/screenshots/160.png)"
   ]
  },
  {
   "cell_type": "markdown",
   "metadata": {},
   "source": [
    "Поле в конце работы алгоритма (170 шаг):"
   ]
  },
  {
   "cell_type": "markdown",
   "metadata": {},
   "source": [
    "![](/screenshots/170.png)"
   ]
  },
  {
   "cell_type": "markdown",
   "metadata": {},
   "source": [
    "Чем больше количество необходимых соседей, тем кластеризованнее поле. Например, при n=4:"
   ]
  },
  {
   "cell_type": "markdown",
   "metadata": {},
   "source": [
    "![](/screenshots/при n=4.png)"
   ]
  }
 ],
 "metadata": {
  "kernelspec": {
   "display_name": "Python 3",
   "language": "python",
   "name": "python3"
  },
  "language_info": {
   "name": "python",
   "version": "3.12.7"
  }
 },
 "nbformat": 4,
 "nbformat_minor": 2
}
